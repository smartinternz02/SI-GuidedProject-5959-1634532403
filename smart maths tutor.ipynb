{
 "cells": [
  {
   "cell_type": "code",
   "execution_count": 2,
   "metadata": {},
   "outputs": [],
   "source": [
    "import pandas as pd\n",
    "import numpy as np"
   ]
  },
  {
   "cell_type": "code",
   "execution_count": 3,
   "metadata": {},
   "outputs": [],
   "source": [
    "from tensorflow.keras.models import Sequential\n",
    "from tensorflow.keras.layers import Dense, Convolution2D, MaxPooling2D, Flatten, Dropout"
   ]
  },
  {
   "cell_type": "code",
   "execution_count": 4,
   "metadata": {},
   "outputs": [],
   "source": [
    "from tensorflow.keras.preprocessing .image import ImageDataGenerator"
   ]
  },
  {
   "cell_type": "code",
   "execution_count": 5,
   "metadata": {},
   "outputs": [],
   "source": [
    "train_datagen = ImageDataGenerator(rescale = 1./255, shear_range = 0.2, zoom_range = 0.2, horizontal_flip = True)\n",
    "test_datagen = ImageDataGenerator(rescale = 1./255)"
   ]
  },
  {
   "cell_type": "code",
   "execution_count": 6,
   "metadata": {},
   "outputs": [
    {
     "name": "stdout",
     "output_type": "stream",
     "text": [
      "Found 10941 images belonging to 3 classes.\n",
      "Found 300 images belonging to 3 classes.\n"
     ]
    }
   ],
   "source": [
    "x_train = train_datagen.flow_from_directory(r\"C:\\internship\\Dataset\\train\",target_size = (64,64),batch_size = 32,class_mode = \"categorical\")\n",
    "x_test = test_datagen.flow_from_directory(r\"C:\\internship\\Dataset\\test\",target_size = (64,64),batch_size = 32,class_mode = \"categorical\")"
   ]
  },
  {
   "cell_type": "code",
   "execution_count": 7,
   "metadata": {},
   "outputs": [
    {
     "data": {
      "text/plain": [
       "{'circle': 0, 'square': 1, 'triangle': 2}"
      ]
     },
     "execution_count": 7,
     "metadata": {},
     "output_type": "execute_result"
    }
   ],
   "source": [
    "x_train.class_indices"
   ]
  },
  {
   "cell_type": "code",
   "execution_count": 8,
   "metadata": {},
   "outputs": [],
   "source": [
    "model = Sequential()"
   ]
  },
  {
   "cell_type": "code",
   "execution_count": 9,
   "metadata": {},
   "outputs": [],
   "source": [
    "model.add(Convolution2D(32,(3,3),input_shape = (64,64,3)))"
   ]
  },
  {
   "cell_type": "code",
   "execution_count": 10,
   "metadata": {},
   "outputs": [],
   "source": [
    "model.add(MaxPooling2D((2,2)))"
   ]
  },
  {
   "cell_type": "code",
   "execution_count": 11,
   "metadata": {},
   "outputs": [],
   "source": [
    "model.add(Flatten())"
   ]
  },
  {
   "cell_type": "code",
   "execution_count": 12,
   "metadata": {},
   "outputs": [],
   "source": [
    "model.add(Dense(units = 128, kernel_initializer= \"random_uniform\",activation = \"relu\"))"
   ]
  },
  {
   "cell_type": "code",
   "execution_count": 13,
   "metadata": {},
   "outputs": [],
   "source": [
    "model.add(Dense(units = 3 , kernel_initializer= \"random_uniform\",activation = \"softmax\"))"
   ]
  },
  {
   "cell_type": "code",
   "execution_count": 14,
   "metadata": {},
   "outputs": [],
   "source": [
    "model.compile(optimizer= \"adam\",loss = \"categorical_crossentropy\" , metrics =[\"accuracy\"])"
   ]
  },
  {
   "cell_type": "code",
   "execution_count": 15,
   "metadata": {},
   "outputs": [
    {
     "name": "stderr",
     "output_type": "stream",
     "text": [
      "C:\\Users\\USER\\anaconda3\\lib\\site-packages\\keras\\engine\\training.py:1972: UserWarning: `Model.fit_generator` is deprecated and will be removed in a future version. Please use `Model.fit`, which supports generators.\n",
      "  warnings.warn('`Model.fit_generator` is deprecated and '\n"
     ]
    },
    {
     "name": "stdout",
     "output_type": "stream",
     "text": [
      "Epoch 1/100\n",
      "342/342 [==============================] - 512s 1s/step - loss: 0.3273 - accuracy: 0.8707 - val_loss: 0.0378 - val_accuracy: 1.0000\n",
      "Epoch 2/100\n",
      "342/342 [==============================] - 38s 110ms/step - loss: 0.0392 - accuracy: 0.9908 - val_loss: 0.0039 - val_accuracy: 1.0000\n",
      "Epoch 3/100\n",
      "342/342 [==============================] - 38s 112ms/step - loss: 0.0084 - accuracy: 0.9981 - val_loss: 0.0019 - val_accuracy: 1.0000\n",
      "Epoch 4/100\n",
      "342/342 [==============================] - 40s 116ms/step - loss: 0.0100 - accuracy: 0.9974 - val_loss: 2.7028e-05 - val_accuracy: 1.0000\n",
      "Epoch 5/100\n",
      "342/342 [==============================] - 38s 110ms/step - loss: 0.0028 - accuracy: 0.9995 - val_loss: 1.2718e-05 - val_accuracy: 1.0000\n",
      "Epoch 6/100\n",
      "342/342 [==============================] - 39s 114ms/step - loss: 0.0013 - accuracy: 0.9998 - val_loss: 1.4412e-05 - val_accuracy: 1.0000\n",
      "Epoch 7/100\n",
      "342/342 [==============================] - 39s 114ms/step - loss: 0.0035 - accuracy: 0.9989 - val_loss: 1.3320e-06 - val_accuracy: 1.0000\n",
      "Epoch 8/100\n",
      "342/342 [==============================] - 40s 116ms/step - loss: 0.0250 - accuracy: 0.9924 - val_loss: 1.5906e-06 - val_accuracy: 1.0000\n",
      "Epoch 9/100\n",
      "342/342 [==============================] - 47s 138ms/step - loss: 4.6166e-04 - accuracy: 0.9999 - val_loss: 9.6122e-07 - val_accuracy: 1.0000\n",
      "Epoch 10/100\n",
      "342/342 [==============================] - 47s 138ms/step - loss: 1.3805e-04 - accuracy: 1.0000 - val_loss: 3.0875e-07 - val_accuracy: 1.0000\n",
      "Epoch 11/100\n",
      "342/342 [==============================] - 52s 152ms/step - loss: 0.0018 - accuracy: 0.9995 - val_loss: 4.2792e-06 - val_accuracy: 1.0000\n",
      "Epoch 12/100\n",
      "342/342 [==============================] - 49s 144ms/step - loss: 6.5569e-04 - accuracy: 0.9999 - val_loss: 1.5107e-05 - val_accuracy: 1.0000\n",
      "Epoch 13/100\n",
      "342/342 [==============================] - 43s 127ms/step - loss: 0.0029 - accuracy: 0.9990 - val_loss: 3.8703e-07 - val_accuracy: 1.0000\n",
      "Epoch 14/100\n",
      "342/342 [==============================] - 42s 122ms/step - loss: 1.6623e-04 - accuracy: 1.0000 - val_loss: 1.5147e-06 - val_accuracy: 1.0000\n",
      "Epoch 15/100\n",
      "342/342 [==============================] - 40s 116ms/step - loss: 0.0021 - accuracy: 0.9995 - val_loss: 3.9895e-07 - val_accuracy: 1.0000\n",
      "Epoch 16/100\n",
      "342/342 [==============================] - 41s 119ms/step - loss: 6.0203e-04 - accuracy: 0.9998 - val_loss: 1.1921e-08 - val_accuracy: 1.0000\n",
      "Epoch 17/100\n",
      "342/342 [==============================] - 40s 118ms/step - loss: 5.0406e-05 - accuracy: 1.0000 - val_loss: 1.3113e-08 - val_accuracy: 1.0000\n",
      "Epoch 18/100\n",
      "342/342 [==============================] - 37s 109ms/step - loss: 6.8032e-05 - accuracy: 1.0000 - val_loss: 6.5168e-08 - val_accuracy: 1.0000\n",
      "Epoch 19/100\n",
      "342/342 [==============================] - 39s 114ms/step - loss: 0.0413 - accuracy: 0.9921 - val_loss: 1.0832e-06 - val_accuracy: 1.0000\n",
      "Epoch 20/100\n",
      "342/342 [==============================] - 37s 109ms/step - loss: 0.0019 - accuracy: 0.9994 - val_loss: 4.4107e-08 - val_accuracy: 1.0000\n",
      "Epoch 21/100\n",
      "342/342 [==============================] - 41s 119ms/step - loss: 2.0788e-05 - accuracy: 1.0000 - val_loss: 4.6094e-08 - val_accuracy: 1.0000\n",
      "Epoch 22/100\n",
      "342/342 [==============================] - 38s 110ms/step - loss: 1.5868e-04 - accuracy: 0.9999 - val_loss: 0.0000e+00 - val_accuracy: 1.0000\n",
      "Epoch 23/100\n",
      "342/342 [==============================] - 38s 112ms/step - loss: 5.1027e-05 - accuracy: 1.0000 - val_loss: 3.1789e-09 - val_accuracy: 1.0000\n",
      "Epoch 24/100\n",
      "342/342 [==============================] - 38s 112ms/step - loss: 6.3718e-05 - accuracy: 1.0000 - val_loss: 4.7684e-09 - val_accuracy: 1.0000\n",
      "Epoch 25/100\n",
      "342/342 [==============================] - 37s 108ms/step - loss: 1.5254e-04 - accuracy: 0.9999 - val_loss: 9.1394e-09 - val_accuracy: 1.0000\n",
      "Epoch 26/100\n",
      "342/342 [==============================] - 36s 106ms/step - loss: 1.4374e-04 - accuracy: 1.0000 - val_loss: 0.0000e+00 - val_accuracy: 1.0000\n",
      "Epoch 27/100\n",
      "342/342 [==============================] - 37s 107ms/step - loss: 6.2587e-05 - accuracy: 1.0000 - val_loss: 0.0000e+00 - val_accuracy: 1.0000\n",
      "Epoch 28/100\n",
      "342/342 [==============================] - 36s 107ms/step - loss: 1.1064e-04 - accuracy: 1.0000 - val_loss: 0.0000e+00 - val_accuracy: 1.0000\n",
      "Epoch 29/100\n",
      "342/342 [==============================] - 36s 106ms/step - loss: 6.3807e-05 - accuracy: 1.0000 - val_loss: 0.0000e+00 - val_accuracy: 1.0000\n",
      "Epoch 30/100\n",
      "342/342 [==============================] - 38s 112ms/step - loss: 0.0094 - accuracy: 0.9979 - val_loss: 0.0000e+00 - val_accuracy: 1.0000\n",
      "Epoch 31/100\n",
      "342/342 [==============================] - 38s 111ms/step - loss: 0.0023 - accuracy: 0.9994 - val_loss: 1.8994e-07 - val_accuracy: 1.0000\n",
      "Epoch 32/100\n",
      "342/342 [==============================] - 39s 113ms/step - loss: 0.0205 - accuracy: 0.9954 - val_loss: 0.0000e+00 - val_accuracy: 1.0000\n",
      "Epoch 33/100\n",
      "342/342 [==============================] - 38s 112ms/step - loss: 0.0043 - accuracy: 0.9992 - val_loss: 2.2133e-07 - val_accuracy: 1.0000\n",
      "Epoch 34/100\n",
      "342/342 [==============================] - 40s 116ms/step - loss: 0.0027 - accuracy: 0.9996 - val_loss: 0.0000e+00 - val_accuracy: 1.0000\n",
      "Epoch 35/100\n",
      "342/342 [==============================] - 38s 112ms/step - loss: 9.4534e-04 - accuracy: 0.9997 - val_loss: 9.3539e-07 - val_accuracy: 1.0000\n",
      "Epoch 36/100\n",
      "342/342 [==============================] - 37s 109ms/step - loss: 0.0014 - accuracy: 0.9997 - val_loss: 0.0000e+00 - val_accuracy: 1.0000\n",
      "Epoch 37/100\n",
      "342/342 [==============================] - 39s 114ms/step - loss: 2.9440e-04 - accuracy: 0.9999 - val_loss: 0.0000e+00 - val_accuracy: 1.0000\n",
      "Epoch 38/100\n",
      "342/342 [==============================] - 38s 112ms/step - loss: 2.0380e-05 - accuracy: 1.0000 - val_loss: 0.0000e+00 - val_accuracy: 1.0000\n",
      "Epoch 39/100\n",
      "342/342 [==============================] - 38s 112ms/step - loss: 1.3941e-06 - accuracy: 1.0000 - val_loss: 0.0000e+00 - val_accuracy: 1.0000\n",
      "Epoch 40/100\n",
      "342/342 [==============================] - 38s 112ms/step - loss: 2.0959e-05 - accuracy: 1.0000 - val_loss: 0.0000e+00 - val_accuracy: 1.0000\n",
      "Epoch 41/100\n",
      "342/342 [==============================] - 38s 111ms/step - loss: 2.7299e-05 - accuracy: 1.0000 - val_loss: 0.0000e+00 - val_accuracy: 1.0000\n",
      "Epoch 42/100\n",
      "342/342 [==============================] - 38s 110ms/step - loss: 0.0066 - accuracy: 0.9992 - val_loss: 0.0000e+00 - val_accuracy: 1.0000\n",
      "Epoch 43/100\n",
      "342/342 [==============================] - 37s 109ms/step - loss: 2.8430e-05 - accuracy: 1.0000 - val_loss: 0.0000e+00 - val_accuracy: 1.0000\n",
      "Epoch 44/100\n",
      "342/342 [==============================] - 38s 111ms/step - loss: 3.4468e-06 - accuracy: 1.0000 - val_loss: 0.0000e+00 - val_accuracy: 1.0000\n",
      "Epoch 45/100\n",
      "342/342 [==============================] - 38s 110ms/step - loss: 0.0075 - accuracy: 0.9988 - val_loss: 1.8358e-07 - val_accuracy: 1.0000\n",
      "Epoch 46/100\n",
      "342/342 [==============================] - 38s 111ms/step - loss: 0.0073 - accuracy: 0.9986 - val_loss: 0.0000e+00 - val_accuracy: 1.0000\n",
      "Epoch 47/100\n",
      "342/342 [==============================] - 39s 113ms/step - loss: 7.0646e-05 - accuracy: 1.0000 - val_loss: 0.0000e+00 - val_accuracy: 1.0000\n",
      "Epoch 48/100\n",
      "342/342 [==============================] - 39s 113ms/step - loss: 1.6611e-06 - accuracy: 1.0000 - val_loss: 0.0000e+00 - val_accuracy: 1.0000\n",
      "Epoch 49/100\n",
      "342/342 [==============================] - 39s 114ms/step - loss: 2.6606e-05 - accuracy: 1.0000 - val_loss: 0.0000e+00 - val_accuracy: 1.0000\n",
      "Epoch 50/100\n",
      "342/342 [==============================] - 39s 113ms/step - loss: 0.0111 - accuracy: 0.9985 - val_loss: 0.0000e+00 - val_accuracy: 1.0000\n",
      "Epoch 51/100\n",
      "342/342 [==============================] - 38s 111ms/step - loss: 0.0020 - accuracy: 0.9994 - val_loss: 0.0000e+00 - val_accuracy: 1.0000\n",
      "Epoch 52/100\n",
      "342/342 [==============================] - 38s 112ms/step - loss: 6.9877e-06 - accuracy: 1.0000 - val_loss: 0.0000e+00 - val_accuracy: 1.0000\n",
      "Epoch 53/100\n",
      "342/342 [==============================] - 39s 113ms/step - loss: 0.0043 - accuracy: 0.9992 - val_loss: 0.0000e+00 - val_accuracy: 1.0000\n",
      "Epoch 54/100\n"
     ]
    },
    {
     "name": "stdout",
     "output_type": "stream",
     "text": [
      "342/342 [==============================] - 37s 108ms/step - loss: 2.0716e-05 - accuracy: 1.0000 - val_loss: 0.0000e+00 - val_accuracy: 1.0000\n",
      "Epoch 55/100\n",
      "342/342 [==============================] - 37s 109ms/step - loss: 1.3896e-05 - accuracy: 1.0000 - val_loss: 0.0000e+00 - val_accuracy: 1.0000\n",
      "Epoch 56/100\n",
      "342/342 [==============================] - 37s 109ms/step - loss: 0.0117 - accuracy: 0.9977 - val_loss: 0.0000e+00 - val_accuracy: 1.0000\n",
      "Epoch 57/100\n",
      "342/342 [==============================] - 38s 111ms/step - loss: 7.5772e-06 - accuracy: 1.0000 - val_loss: 0.0000e+00 - val_accuracy: 1.0000\n",
      "Epoch 58/100\n",
      "342/342 [==============================] - 37s 109ms/step - loss: 0.0022 - accuracy: 0.9997 - val_loss: 0.0000e+00 - val_accuracy: 1.0000\n",
      "Epoch 59/100\n",
      "342/342 [==============================] - 37s 109ms/step - loss: 9.8704e-04 - accuracy: 0.9999 - val_loss: 0.0000e+00 - val_accuracy: 1.0000\n",
      "Epoch 60/100\n",
      "342/342 [==============================] - 38s 111ms/step - loss: 0.0058 - accuracy: 0.9991 - val_loss: 0.0000e+00 - val_accuracy: 1.0000\n",
      "Epoch 61/100\n",
      "342/342 [==============================] - 38s 110ms/step - loss: 1.7268e-06 - accuracy: 1.0000 - val_loss: 0.0000e+00 - val_accuracy: 1.0000\n",
      "Epoch 62/100\n",
      "342/342 [==============================] - 38s 112ms/step - loss: 0.0023 - accuracy: 0.9998 - val_loss: 0.0000e+00 - val_accuracy: 1.0000\n",
      "Epoch 63/100\n",
      "342/342 [==============================] - 38s 110ms/step - loss: 3.3606e-06 - accuracy: 1.0000 - val_loss: 0.0000e+00 - val_accuracy: 1.0000\n",
      "Epoch 64/100\n",
      "342/342 [==============================] - 38s 111ms/step - loss: 5.0494e-06 - accuracy: 1.0000 - val_loss: 0.0000e+00 - val_accuracy: 1.0000\n",
      "Epoch 65/100\n",
      "342/342 [==============================] - 38s 111ms/step - loss: 0.0012 - accuracy: 0.9996 - val_loss: 0.0000e+00 - val_accuracy: 1.0000\n",
      "Epoch 66/100\n",
      "342/342 [==============================] - 38s 110ms/step - loss: 0.0108 - accuracy: 0.9981 - val_loss: 0.0000e+00 - val_accuracy: 1.0000\n",
      "Epoch 67/100\n",
      "342/342 [==============================] - 38s 110ms/step - loss: 0.0051 - accuracy: 0.9993 - val_loss: 0.0000e+00 - val_accuracy: 1.0000\n",
      "Epoch 68/100\n",
      "342/342 [==============================] - 38s 112ms/step - loss: 4.3394e-04 - accuracy: 0.9998 - val_loss: 0.0000e+00 - val_accuracy: 1.0000\n",
      "Epoch 69/100\n",
      "342/342 [==============================] - 38s 111ms/step - loss: 8.7353e-08 - accuracy: 1.0000 - val_loss: 0.0000e+00 - val_accuracy: 1.0000\n",
      "Epoch 70/100\n",
      "342/342 [==============================] - 38s 111ms/step - loss: 1.3314e-07 - accuracy: 1.0000 - val_loss: 0.0000e+00 - val_accuracy: 1.0000\n",
      "Epoch 71/100\n",
      "342/342 [==============================] - 38s 111ms/step - loss: 1.5483e-07 - accuracy: 1.0000 - val_loss: 0.0000e+00 - val_accuracy: 1.0000\n",
      "Epoch 72/100\n",
      "342/342 [==============================] - 39s 114ms/step - loss: 2.8519e-06 - accuracy: 1.0000 - val_loss: 0.0000e+00 - val_accuracy: 1.0000\n",
      "Epoch 73/100\n",
      "342/342 [==============================] - 38s 110ms/step - loss: 2.2980e-06 - accuracy: 1.0000 - val_loss: 0.0000e+00 - val_accuracy: 1.0000\n",
      "Epoch 74/100\n",
      "342/342 [==============================] - 38s 111ms/step - loss: 0.0105 - accuracy: 0.9984 - val_loss: 0.0000e+00 - val_accuracy: 1.0000\n",
      "Epoch 75/100\n",
      "342/342 [==============================] - 37s 110ms/step - loss: 0.0023 - accuracy: 0.9996 - val_loss: 0.0000e+00 - val_accuracy: 1.0000\n",
      "Epoch 76/100\n",
      "342/342 [==============================] - 38s 112ms/step - loss: 0.0022 - accuracy: 0.9995 - val_loss: 0.0000e+00 - val_accuracy: 1.0000\n",
      "Epoch 77/100\n",
      "342/342 [==============================] - 41s 118ms/step - loss: 4.5388e-04 - accuracy: 0.9999 - val_loss: 0.0000e+00 - val_accuracy: 1.0000\n",
      "Epoch 78/100\n",
      "342/342 [==============================] - 40s 116ms/step - loss: 1.2210e-06 - accuracy: 1.0000 - val_loss: 0.0000e+00 - val_accuracy: 1.0000\n",
      "Epoch 79/100\n",
      "342/342 [==============================] - 39s 115ms/step - loss: 4.4477e-07 - accuracy: 1.0000 - val_loss: 0.0000e+00 - val_accuracy: 1.0000\n",
      "Epoch 80/100\n",
      "342/342 [==============================] - 38s 112ms/step - loss: 3.4554e-07 - accuracy: 1.0000 - val_loss: 0.0000e+00 - val_accuracy: 1.0000\n",
      "Epoch 81/100\n",
      "342/342 [==============================] - 38s 112ms/step - loss: 0.0134 - accuracy: 0.9983 - val_loss: 0.0000e+00 - val_accuracy: 1.0000\n",
      "Epoch 82/100\n",
      "342/342 [==============================] - 38s 112ms/step - loss: 5.4681e-08 - accuracy: 1.0000 - val_loss: 0.0000e+00 - val_accuracy: 1.0000\n",
      "Epoch 83/100\n",
      "342/342 [==============================] - 38s 112ms/step - loss: 2.9255e-06 - accuracy: 1.0000 - val_loss: 0.0000e+00 - val_accuracy: 1.0000\n",
      "Epoch 84/100\n",
      "342/342 [==============================] - 38s 111ms/step - loss: 8.3104e-05 - accuracy: 1.0000 - val_loss: 0.0000e+00 - val_accuracy: 1.0000\n",
      "Epoch 85/100\n",
      "342/342 [==============================] - 38s 111ms/step - loss: 0.0031 - accuracy: 0.9997 - val_loss: 0.0000e+00 - val_accuracy: 1.0000\n",
      "Epoch 86/100\n",
      "342/342 [==============================] - 39s 114ms/step - loss: 0.0095 - accuracy: 0.9985 - val_loss: 0.0000e+00 - val_accuracy: 1.0000\n",
      "Epoch 87/100\n",
      "342/342 [==============================] - 39s 115ms/step - loss: 2.3970e-10 - accuracy: 1.0000 - val_loss: 0.0000e+00 - val_accuracy: 1.0000\n",
      "Epoch 88/100\n",
      "342/342 [==============================] - 39s 115ms/step - loss: 3.0507e-09 - accuracy: 1.0000 - val_loss: 0.0000e+00 - val_accuracy: 1.0000\n",
      "Epoch 89/100\n",
      "342/342 [==============================] - 39s 115ms/step - loss: 0.0034 - accuracy: 0.9996 - val_loss: 0.0000e+00 - val_accuracy: 1.0000\n",
      "Epoch 90/100\n",
      "342/342 [==============================] - 39s 114ms/step - loss: 1.5932e-05 - accuracy: 1.0000 - val_loss: 0.0000e+00 - val_accuracy: 1.0000\n",
      "Epoch 91/100\n",
      "342/342 [==============================] - 39s 115ms/step - loss: 2.5266e-07 - accuracy: 1.0000 - val_loss: 0.0000e+00 - val_accuracy: 1.0000\n",
      "Epoch 92/100\n",
      "342/342 [==============================] - 40s 116ms/step - loss: 4.5009e-07 - accuracy: 1.0000 - val_loss: 0.0000e+00 - val_accuracy: 1.0000\n",
      "Epoch 93/100\n",
      "342/342 [==============================] - 39s 115ms/step - loss: 0.0132 - accuracy: 0.9987 - val_loss: 3.2795e-05 - val_accuracy: 1.0000\n",
      "Epoch 94/100\n",
      "342/342 [==============================] - 40s 116ms/step - loss: 0.0019 - accuracy: 0.9996 - val_loss: 0.0000e+00 - val_accuracy: 1.0000\n",
      "Epoch 95/100\n",
      "342/342 [==============================] - 40s 116ms/step - loss: 2.0558e-08 - accuracy: 1.0000 - val_loss: 0.0000e+00 - val_accuracy: 1.0000\n",
      "Epoch 96/100\n",
      "342/342 [==============================] - 39s 114ms/step - loss: 5.5782e-05 - accuracy: 1.0000 - val_loss: 0.0000e+00 - val_accuracy: 1.0000\n",
      "Epoch 97/100\n",
      "342/342 [==============================] - 39s 113ms/step - loss: 1.7901e-07 - accuracy: 1.0000 - val_loss: 0.0000e+00 - val_accuracy: 1.0000\n",
      "Epoch 98/100\n",
      "342/342 [==============================] - 39s 113ms/step - loss: 1.4252e-07 - accuracy: 1.0000 - val_loss: 0.0000e+00 - val_accuracy: 1.0000\n",
      "Epoch 99/100\n",
      "342/342 [==============================] - 39s 113ms/step - loss: 0.0020 - accuracy: 0.9996 - val_loss: 0.0000e+00 - val_accuracy: 1.0000\n",
      "Epoch 100/100\n",
      "342/342 [==============================] - 40s 118ms/step - loss: 0.0289 - accuracy: 0.9976 - val_loss: 0.0000e+00 - val_accuracy: 1.0000\n"
     ]
    },
    {
     "data": {
      "text/plain": [
       "<keras.callbacks.History at 0x18055569af0>"
      ]
     },
     "execution_count": 15,
     "metadata": {},
     "output_type": "execute_result"
    }
   ],
   "source": [
    "model.fit_generator(x_train,steps_per_epoch = 342 , epochs = 100 , validation_data = x_test,validation_steps = 10)"
   ]
  },
  {
   "cell_type": "code",
   "execution_count": 16,
   "metadata": {},
   "outputs": [
    {
     "name": "stdout",
     "output_type": "stream",
     "text": [
      "Model: \"sequential\"\n",
      "_________________________________________________________________\n",
      "Layer (type)                 Output Shape              Param #   \n",
      "=================================================================\n",
      "conv2d (Conv2D)              (None, 62, 62, 32)        896       \n",
      "_________________________________________________________________\n",
      "max_pooling2d (MaxPooling2D) (None, 31, 31, 32)        0         \n",
      "_________________________________________________________________\n",
      "flatten (Flatten)            (None, 30752)             0         \n",
      "_________________________________________________________________\n",
      "dense (Dense)                (None, 128)               3936384   \n",
      "_________________________________________________________________\n",
      "dense_1 (Dense)              (None, 3)                 387       \n",
      "=================================================================\n",
      "Total params: 3,937,667\n",
      "Trainable params: 3,937,667\n",
      "Non-trainable params: 0\n",
      "_________________________________________________________________\n"
     ]
    }
   ],
   "source": [
    "model.summary()"
   ]
  },
  {
   "cell_type": "code",
   "execution_count": 17,
   "metadata": {},
   "outputs": [],
   "source": [
    "model.save(\"shapes.h5\")"
   ]
  },
  {
   "cell_type": "code",
   "execution_count": 18,
   "metadata": {},
   "outputs": [],
   "source": [
    "from tensorflow.keras.models import load_model\n",
    "from tensorflow.keras.preprocessing import image"
   ]
  },
  {
   "cell_type": "code",
   "execution_count": 19,
   "metadata": {},
   "outputs": [],
   "source": [
    "model = load_model(\"shapes.h5\")"
   ]
  },
  {
   "cell_type": "code",
   "execution_count": 20,
   "metadata": {},
   "outputs": [],
   "source": [
    "img1 = image.load_img(r\"C:\\internship\\Dataset\\train\\circle\\100.png\", target_size = (64,64))"
   ]
  },
  {
   "cell_type": "code",
   "execution_count": 21,
   "metadata": {},
   "outputs": [
    {
     "data": {
      "text/plain": [
       "PIL.Image.Image"
      ]
     },
     "execution_count": 21,
     "metadata": {},
     "output_type": "execute_result"
    }
   ],
   "source": [
    "type(img1)"
   ]
  },
  {
   "cell_type": "code",
   "execution_count": 22,
   "metadata": {},
   "outputs": [],
   "source": [
    "x = image.img_to_array(img1)"
   ]
  },
  {
   "cell_type": "code",
   "execution_count": 23,
   "metadata": {},
   "outputs": [
    {
     "data": {
      "text/plain": [
       "(64, 64, 3)"
      ]
     },
     "execution_count": 23,
     "metadata": {},
     "output_type": "execute_result"
    }
   ],
   "source": [
    "x.shape"
   ]
  },
  {
   "cell_type": "code",
   "execution_count": 24,
   "metadata": {},
   "outputs": [],
   "source": [
    "x = np.expand_dims(x, axis = 0)"
   ]
  },
  {
   "cell_type": "code",
   "execution_count": 25,
   "metadata": {},
   "outputs": [
    {
     "data": {
      "text/plain": [
       "(1, 64, 64, 3)"
      ]
     },
     "execution_count": 25,
     "metadata": {},
     "output_type": "execute_result"
    }
   ],
   "source": [
    "x.shape"
   ]
  },
  {
   "cell_type": "code",
   "execution_count": 26,
   "metadata": {},
   "outputs": [],
   "source": [
    "xpred = np.argmax(model.predict(x))"
   ]
  },
  {
   "cell_type": "code",
   "execution_count": 27,
   "metadata": {},
   "outputs": [
    {
     "data": {
      "text/plain": [
       "0"
      ]
     },
     "execution_count": 27,
     "metadata": {},
     "output_type": "execute_result"
    }
   ],
   "source": [
    "xpred"
   ]
  },
  {
   "cell_type": "code",
   "execution_count": 28,
   "metadata": {},
   "outputs": [],
   "source": [
    "img2 = image.load_img(r\"C:\\internship\\Dataset\\train\\square\\101.png\", target_size  = (64,64))"
   ]
  },
  {
   "cell_type": "code",
   "execution_count": 29,
   "metadata": {},
   "outputs": [],
   "source": [
    "y = image.img_to_array(img2)"
   ]
  },
  {
   "cell_type": "code",
   "execution_count": 30,
   "metadata": {},
   "outputs": [
    {
     "data": {
      "text/plain": [
       "(64, 64, 3)"
      ]
     },
     "execution_count": 30,
     "metadata": {},
     "output_type": "execute_result"
    }
   ],
   "source": [
    "y.shape"
   ]
  },
  {
   "cell_type": "code",
   "execution_count": 31,
   "metadata": {},
   "outputs": [],
   "source": [
    "y = np.expand_dims(y, axis = 0)"
   ]
  },
  {
   "cell_type": "code",
   "execution_count": 32,
   "metadata": {},
   "outputs": [
    {
     "data": {
      "text/plain": [
       "(1, 64, 64, 3)"
      ]
     },
     "execution_count": 32,
     "metadata": {},
     "output_type": "execute_result"
    }
   ],
   "source": [
    "y.shape"
   ]
  },
  {
   "cell_type": "code",
   "execution_count": 33,
   "metadata": {},
   "outputs": [],
   "source": [
    "ypred = np.argmax(model.predict(y))"
   ]
  },
  {
   "cell_type": "code",
   "execution_count": 34,
   "metadata": {},
   "outputs": [
    {
     "data": {
      "text/plain": [
       "1"
      ]
     },
     "execution_count": 34,
     "metadata": {},
     "output_type": "execute_result"
    }
   ],
   "source": [
    "ypred"
   ]
  },
  {
   "cell_type": "code",
   "execution_count": 35,
   "metadata": {},
   "outputs": [],
   "source": [
    "index = ['circle', 'square', 'triangle']"
   ]
  },
  {
   "cell_type": "code",
   "execution_count": 36,
   "metadata": {},
   "outputs": [],
   "source": [
    "prediction = index[xpred]"
   ]
  },
  {
   "cell_type": "code",
   "execution_count": 37,
   "metadata": {},
   "outputs": [
    {
     "data": {
      "text/plain": [
       "'circle'"
      ]
     },
     "execution_count": 37,
     "metadata": {},
     "output_type": "execute_result"
    }
   ],
   "source": [
    "prediction"
   ]
  },
  {
   "cell_type": "code",
   "execution_count": 38,
   "metadata": {},
   "outputs": [],
   "source": [
    "prediction = index[ypred]"
   ]
  },
  {
   "cell_type": "code",
   "execution_count": 39,
   "metadata": {},
   "outputs": [
    {
     "data": {
      "text/plain": [
       "'square'"
      ]
     },
     "execution_count": 39,
     "metadata": {},
     "output_type": "execute_result"
    }
   ],
   "source": [
    "prediction"
   ]
  },
  {
   "cell_type": "code",
   "execution_count": null,
   "metadata": {},
   "outputs": [],
   "source": []
  }
 ],
 "metadata": {
  "kernelspec": {
   "display_name": "Python 3",
   "language": "python",
   "name": "python3"
  },
  "language_info": {
   "codemirror_mode": {
    "name": "ipython",
    "version": 3
   },
   "file_extension": ".py",
   "mimetype": "text/x-python",
   "name": "python",
   "nbconvert_exporter": "python",
   "pygments_lexer": "ipython3",
   "version": "3.8.3"
  }
 },
 "nbformat": 4,
 "nbformat_minor": 4
}
